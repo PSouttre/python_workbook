{
 "cells": [
  {
   "cell_type": "code",
   "execution_count": 1,
   "id": "d76c630f-5d66-4edd-aee5-5c3c27bf1963",
   "metadata": {},
   "outputs": [
    {
     "name": "stdout",
     "output_type": "stream",
     "text": [
      "Requirement already satisfied: sqlalchemy in c:\\users\\peggy\\anaconda3\\lib\\site-packages (2.0.30)\n",
      "Requirement already satisfied: typing-extensions>=4.6.0 in c:\\users\\peggy\\anaconda3\\lib\\site-packages (from sqlalchemy) (4.11.0)\n",
      "Requirement already satisfied: greenlet!=0.4.17 in c:\\users\\peggy\\anaconda3\\lib\\site-packages (from sqlalchemy) (3.0.1)\n"
     ]
    }
   ],
   "source": [
    "!pip install sqlalchemy"
   ]
  },
  {
   "cell_type": "code",
   "execution_count": 3,
   "id": "3c5635c1-ca2c-4319-8eea-4f275e5f7387",
   "metadata": {},
   "outputs": [
    {
     "name": "stdout",
     "output_type": "stream",
     "text": [
      "Requirement already satisfied: ipython_sql in c:\\users\\peggy\\anaconda3\\lib\\site-packages (0.5.0)\n",
      "Requirement already satisfied: prettytable in c:\\users\\peggy\\anaconda3\\lib\\site-packages (from ipython_sql) (3.11.0)\n",
      "Requirement already satisfied: ipython in c:\\users\\peggy\\anaconda3\\lib\\site-packages (from ipython_sql) (8.25.0)\n",
      "Requirement already satisfied: sqlalchemy>=2.0 in c:\\users\\peggy\\anaconda3\\lib\\site-packages (from ipython_sql) (2.0.30)\n",
      "Requirement already satisfied: sqlparse in c:\\users\\peggy\\anaconda3\\lib\\site-packages (from ipython_sql) (0.5.1)\n",
      "Requirement already satisfied: six in c:\\users\\peggy\\anaconda3\\lib\\site-packages (from ipython_sql) (1.16.0)\n",
      "Requirement already satisfied: ipython-genutils in c:\\users\\peggy\\anaconda3\\lib\\site-packages (from ipython_sql) (0.2.0)\n",
      "Requirement already satisfied: typing-extensions>=4.6.0 in c:\\users\\peggy\\anaconda3\\lib\\site-packages (from sqlalchemy>=2.0->ipython_sql) (4.11.0)\n",
      "Requirement already satisfied: greenlet!=0.4.17 in c:\\users\\peggy\\anaconda3\\lib\\site-packages (from sqlalchemy>=2.0->ipython_sql) (3.0.1)\n",
      "Requirement already satisfied: decorator in c:\\users\\peggy\\anaconda3\\lib\\site-packages (from ipython->ipython_sql) (5.1.1)\n",
      "Requirement already satisfied: jedi>=0.16 in c:\\users\\peggy\\anaconda3\\lib\\site-packages (from ipython->ipython_sql) (0.18.1)\n",
      "Requirement already satisfied: matplotlib-inline in c:\\users\\peggy\\anaconda3\\lib\\site-packages (from ipython->ipython_sql) (0.1.6)\n",
      "Requirement already satisfied: prompt-toolkit<3.1.0,>=3.0.41 in c:\\users\\peggy\\anaconda3\\lib\\site-packages (from ipython->ipython_sql) (3.0.43)\n",
      "Requirement already satisfied: pygments>=2.4.0 in c:\\users\\peggy\\anaconda3\\lib\\site-packages (from ipython->ipython_sql) (2.15.1)\n",
      "Requirement already satisfied: stack-data in c:\\users\\peggy\\anaconda3\\lib\\site-packages (from ipython->ipython_sql) (0.2.0)\n",
      "Requirement already satisfied: traitlets>=5.13.0 in c:\\users\\peggy\\anaconda3\\lib\\site-packages (from ipython->ipython_sql) (5.14.3)\n",
      "Requirement already satisfied: colorama in c:\\users\\peggy\\anaconda3\\lib\\site-packages (from ipython->ipython_sql) (0.4.6)\n",
      "Requirement already satisfied: wcwidth in c:\\users\\peggy\\anaconda3\\lib\\site-packages (from prettytable->ipython_sql) (0.2.5)\n",
      "Requirement already satisfied: parso<0.9.0,>=0.8.0 in c:\\users\\peggy\\anaconda3\\lib\\site-packages (from jedi>=0.16->ipython->ipython_sql) (0.8.3)\n",
      "Requirement already satisfied: executing in c:\\users\\peggy\\anaconda3\\lib\\site-packages (from stack-data->ipython->ipython_sql) (0.8.3)\n",
      "Requirement already satisfied: asttokens in c:\\users\\peggy\\anaconda3\\lib\\site-packages (from stack-data->ipython->ipython_sql) (2.0.5)\n",
      "Requirement already satisfied: pure-eval in c:\\users\\peggy\\anaconda3\\lib\\site-packages (from stack-data->ipython->ipython_sql) (0.2.2)\n"
     ]
    }
   ],
   "source": [
    "!pip install ipython_sql"
   ]
  },
  {
   "cell_type": "code",
   "execution_count": null,
   "id": "e204cb02-d580-4f22-ab17-e0cab1e78886",
   "metadata": {},
   "outputs": [],
   "source": []
  },
  {
   "cell_type": "code",
   "execution_count": null,
   "id": "138fe93d-281f-4cf6-8bb6-dd721b737a82",
   "metadata": {},
   "outputs": [],
   "source": [
    "#CHAPITRE 1"
   ]
  },
  {
   "cell_type": "code",
   "execution_count": null,
   "id": "2f21d0b9-1cdf-4825-ad82-d440585c1407",
   "metadata": {},
   "outputs": [],
   "source": [
    "#Ex 1 : Mailing Addresse"
   ]
  },
  {
   "cell_type": "code",
   "execution_count": 11,
   "id": "2874a926-e85e-407d-842a-1891df68590f",
   "metadata": {},
   "outputs": [
    {
     "name": "stdin",
     "output_type": "stream",
     "text": [
      "Veuillez renseigner votre mail :  john.doe@xxx.fr\n"
     ]
    }
   ],
   "source": [
    "mail = input (\"Veuillez renseigner votre mail : \")\n"
   ]
  },
  {
   "cell_type": "code",
   "execution_count": 7,
   "id": "8ec58e52-7c70-4756-81b5-2aaea7a3c9c0",
   "metadata": {},
   "outputs": [
    {
     "name": "stdin",
     "output_type": "stream",
     "text": [
      "Entrez votre nom :  john\n"
     ]
    }
   ],
   "source": [
    "name = input (\"Entrez votre nom : \")\n"
   ]
  },
  {
   "cell_type": "code",
   "execution_count": null,
   "id": "bedf0a61-03a4-495c-9836-b184f09e3281",
   "metadata": {},
   "outputs": [],
   "source": []
  },
  {
   "cell_type": "code",
   "execution_count": null,
   "id": "f89f9085-25c0-4698-8e92-d64e5c8526b9",
   "metadata": {},
   "outputs": [],
   "source": [
    "#Ex 2 : Hello"
   ]
  },
  {
   "cell_type": "code",
   "execution_count": 27,
   "id": "05b3db7d-9335-4edf-aa09-095a20fb8378",
   "metadata": {},
   "outputs": [
    {
     "name": "stdin",
     "output_type": "stream",
     "text": [
      "Entrez votre nom :  peggy\n"
     ]
    },
    {
     "name": "stdout",
     "output_type": "stream",
     "text": [
      " Hello,peggy \n"
     ]
    }
   ],
   "source": [
    "name = input (\"Entrez votre nom : \")\n",
    "print(f\" Hello,{name} \")\n",
    "\n"
   ]
  },
  {
   "cell_type": "code",
   "execution_count": null,
   "id": "cf567d70-1116-4162-bf88-3a63c75b9fbd",
   "metadata": {},
   "outputs": [],
   "source": []
  },
  {
   "cell_type": "code",
   "execution_count": null,
   "id": "31049aab-32d0-416b-92c9-1be98f488bb8",
   "metadata": {},
   "outputs": [],
   "source": [
    "#Ex 3 : Area of a room"
   ]
  },
  {
   "cell_type": "code",
   "execution_count": 218,
   "id": "b16adb1b-7605-4954-af18-8ed2d21c414f",
   "metadata": {},
   "outputs": [
    {
     "name": "stdin",
     "output_type": "stream",
     "text": [
      "Veuillez renseigner la largeur en mètre  :  5\n",
      "Veuillez renseigner la longeur en mètre:  7\n"
     ]
    },
    {
     "name": "stdout",
     "output_type": "stream",
     "text": [
      " La surface est de 35.0 mètres carrés\n"
     ]
    }
   ],
   "source": [
    "width = float(input (\"Veuillez renseigner la largeur en mètre  : \"))\n",
    "length = float(input (\"Veuillez renseigner la longeur en mètre: \"))\n",
    "area = width * length\n",
    "print(\" La surface est de\" , area,\"mètres carrés\")"
   ]
  },
  {
   "cell_type": "code",
   "execution_count": null,
   "id": "1d8e237b-8ad8-4d46-b28a-0f7164d3753b",
   "metadata": {},
   "outputs": [],
   "source": []
  },
  {
   "cell_type": "code",
   "execution_count": null,
   "id": "ec6a03a7-516f-46a0-8b23-e594052a89ce",
   "metadata": {},
   "outputs": [],
   "source": [
    "#Ex 4 Area of a field"
   ]
  },
  {
   "cell_type": "code",
   "execution_count": 55,
   "id": "74aa869c-0890-4976-ac77-fcb2d8ed7956",
   "metadata": {},
   "outputs": [
    {
     "name": "stdout",
     "output_type": "stream",
     "text": [
      " La surface est de 0.42 ares\n"
     ]
    }
   ],
   "source": [
    "acre = area/100\n",
    "print (\" La surface est de\", acre, \"ares\")\n"
   ]
  },
  {
   "cell_type": "code",
   "execution_count": null,
   "id": "b158df66-8e99-484a-8dc2-115d51c8d488",
   "metadata": {},
   "outputs": [],
   "source": []
  },
  {
   "cell_type": "code",
   "execution_count": null,
   "id": "24201489-c9c5-4aa7-ac9c-3e1b328b2cc8",
   "metadata": {},
   "outputs": [],
   "source": [
    "#Ex 5 Bottle deposits"
   ]
  },
  {
   "cell_type": "code",
   "execution_count": 119,
   "id": "8d9d3b18-8b08-4a01-805d-c34686069b07",
   "metadata": {},
   "outputs": [
    {
     "name": "stdin",
     "output_type": "stream",
     "text": [
      "Nombre de petite bouteille:  56\n",
      "Nombre de grande bouteille:  45\n"
     ]
    },
    {
     "name": "stdout",
     "output_type": "stream",
     "text": [
      "16.85\n",
      "Vous avez gagné 16.85 $ \n"
     ]
    }
   ],
   "source": [
    "little_bottle = int(input(\"Nombre de petite bouteille: \"))\n",
    "total_little = little_bottle * 0.1\n",
    "big_bottle = int(input(\"Nombre de grande bouteille: \"))\n",
    "total_big = big_bottle * 0.25\n",
    "total = round((total_little + total_big),2)\n",
    "print(total)\n",
    "total_dollar = f\"Vous avez gagné {total} $ \"\n",
    "print(total_dollar)\n"
   ]
  },
  {
   "cell_type": "code",
   "execution_count": null,
   "id": "961e1e9a-acb6-400a-80fe-5bdf1bd897a3",
   "metadata": {},
   "outputs": [],
   "source": []
  },
  {
   "cell_type": "code",
   "execution_count": null,
   "id": "36922907-5208-4a61-af7b-6b80e8791362",
   "metadata": {},
   "outputs": [],
   "source": []
  },
  {
   "cell_type": "code",
   "execution_count": null,
   "id": "9f03d4ea-93cd-4448-a5f6-786371894015",
   "metadata": {},
   "outputs": [],
   "source": [
    "#Ex 6 Tax and tip"
   ]
  },
  {
   "cell_type": "code",
   "execution_count": 216,
   "id": "b3484671-98f0-4907-a79b-1b3d8814c2d4",
   "metadata": {},
   "outputs": [
    {
     "name": "stdin",
     "output_type": "stream",
     "text": [
      "Quel est le prix du repas HT:  56\n"
     ]
    },
    {
     "name": "stdout",
     "output_type": "stream",
     "text": [
      "5.6\n",
      "10.08\n",
      "Le prix total du repas est de : 71.68 €\n"
     ]
    }
   ],
   "source": [
    "\n",
    "repas_hors_taxe = float(input(\"Quel est le prix du repas HT: \"))\n",
    "total_tva = repas_hors_taxe/10\n",
    "print(total_tva)\n",
    "total_tip = repas_hors_taxe * 0.18\n",
    "print(total_tip)\n",
    "total = round((repas_hors_taxe + total_tva + total_tip), 2 )\n",
    "print(\"Le prix total du repas est de :\" ,total,\"€\")\n",
    "\n",
    "                         "
   ]
  },
  {
   "cell_type": "code",
   "execution_count": null,
   "id": "923f1ca0-b66d-4054-91d3-cf323901e30e",
   "metadata": {},
   "outputs": [],
   "source": []
  },
  {
   "cell_type": "code",
   "execution_count": null,
   "id": "e39414bc-de75-47d6-a1ee-43d7ce520987",
   "metadata": {},
   "outputs": [],
   "source": [
    "#Ex 7 Sum of th first n positive integers"
   ]
  },
  {
   "cell_type": "code",
   "execution_count": 135,
   "id": "c2db052d-81a8-4e8c-bbe5-995005f47ebb",
   "metadata": {},
   "outputs": [
    {
     "name": "stdin",
     "output_type": "stream",
     "text": [
      "Tapez un nombre entier:  6\n"
     ]
    },
    {
     "name": "stdout",
     "output_type": "stream",
     "text": [
      "6\n",
      "21.0\n"
     ]
    }
   ],
   "source": [
    "n = int(input(\"Tapez un nombre entier: \"))\n",
    "print(n)\n",
    "sum = (n *(n + 1))/2\n",
    "print(sum)"
   ]
  },
  {
   "cell_type": "code",
   "execution_count": null,
   "id": "e3e9dd1e-4623-4710-aafa-f72f61696f31",
   "metadata": {},
   "outputs": [],
   "source": []
  },
  {
   "cell_type": "code",
   "execution_count": null,
   "id": "8525954d-262e-41d1-a3cf-fa4baa2dd494",
   "metadata": {},
   "outputs": [],
   "source": [
    "#8 Widgets and Gizmos"
   ]
  },
  {
   "cell_type": "code",
   "execution_count": 154,
   "id": "71f92e99-c67c-4fd3-8497-9a3c91458cbe",
   "metadata": {},
   "outputs": [
    {
     "name": "stdin",
     "output_type": "stream",
     "text": [
      "Nombre de widgets:  23\n",
      "Nombre de Gizmos:  12\n"
     ]
    },
    {
     "name": "stdout",
     "output_type": "stream",
     "text": [
      "Le poids total est de : 3069 grammes\n"
     ]
    }
   ],
   "source": [
    "widget = int(input(\"Nombre de widgets: \"))\n",
    "gizmos = int(input(\"Nombre de Gizmos: \"))\n",
    "weight_widget = widget * 75\n",
    "weight_gizmos = gizmos * 112\n",
    "total = weight_widget + weight_gizmos\n",
    "print(\"Le poids total est de :\", total, \"grammes\")"
   ]
  },
  {
   "cell_type": "code",
   "execution_count": null,
   "id": "09416d63-0b28-4f55-8f36-411b75c0e782",
   "metadata": {},
   "outputs": [],
   "source": []
  },
  {
   "cell_type": "code",
   "execution_count": null,
   "id": "de5f8508-86c0-47de-bf26-6e69f2f8a3dc",
   "metadata": {},
   "outputs": [],
   "source": [
    "#9 Compound Interest"
   ]
  },
  {
   "cell_type": "code",
   "execution_count": 160,
   "id": "f3621116-54f2-4716-9513-4a282ed0e965",
   "metadata": {},
   "outputs": [
    {
     "name": "stdin",
     "output_type": "stream",
     "text": [
      "Montant déposé :  100\n"
     ]
    },
    {
     "name": "stdout",
     "output_type": "stream",
     "text": [
      "104.0\n",
      "108.16\n",
      "112.49\n"
     ]
    }
   ],
   "source": [
    "amount_account = float(input(\"Montant déposé : \"))\n",
    "amount_year_1 = amount_account * 1.04\n",
    "print(round(amount_year_1, 2))\n",
    "amount_year_2 = amount_year_1 * 1.04\n",
    "print(round(amount_year_2, 2))\n",
    "amount_year_3 = amount_year_2 * 1.04\n",
    "print(round(amount_year_3, 2))"
   ]
  },
  {
   "cell_type": "code",
   "execution_count": null,
   "id": "594016b7-e597-418f-ae15-f2f78fddaefb",
   "metadata": {},
   "outputs": [],
   "source": []
  },
  {
   "cell_type": "code",
   "execution_count": null,
   "id": "ca64446d-95d4-45b9-a7de-eb218bff6d34",
   "metadata": {},
   "outputs": [],
   "source": [
    "#10 Arithmetic"
   ]
  },
  {
   "cell_type": "code",
   "execution_count": 168,
   "id": "e02b2cd6-4c48-4e6f-b626-13def22efb85",
   "metadata": {},
   "outputs": [
    {
     "name": "stdin",
     "output_type": "stream",
     "text": [
      "Nombre a : 7\n",
      "Nombre b : 3\n"
     ]
    },
    {
     "name": "stdout",
     "output_type": "stream",
     "text": [
      "10\n",
      "4\n",
      "21\n",
      "2.3333333333333335\n",
      "1\n",
      "343\n"
     ]
    }
   ],
   "source": [
    "import math\n",
    "\n",
    "a = int(input(\"Nombre a :\"))\n",
    "b = int(input(\"Nombre b :\"))\n",
    "sum = a + b\n",
    "print(sum)\n",
    "diff = a - b\n",
    "print(diff)\n",
    "product = a * b\n",
    "print(product)\n",
    "quot = a/b\n",
    "print(quot)\n",
    "modulo = a%b\n",
    "print(modulo)\n",
    "puissance= a**b\n",
    "print(puissance)\n",
    "#og = log10a\n",
    "#print(log)\n"
   ]
  },
  {
   "cell_type": "code",
   "execution_count": null,
   "id": "5b5089f5-9096-4c39-93a8-31b0837c8a31",
   "metadata": {},
   "outputs": [],
   "source": []
  },
  {
   "cell_type": "code",
   "execution_count": null,
   "id": "002d8f81-66ad-4e89-a634-151689064918",
   "metadata": {},
   "outputs": [],
   "source": [
    "# Ex 11 Fuel Efficiency"
   ]
  },
  {
   "cell_type": "code",
   "execution_count": 236,
   "id": "6acc263f-037b-4a1f-a42e-0f5abff0b2b4",
   "metadata": {},
   "outputs": [
    {
     "name": "stdin",
     "output_type": "stream",
     "text": [
      "Consommation en Miles par Gallon : 35\n"
     ]
    },
    {
     "name": "stdout",
     "output_type": "stream",
     "text": [
      "Votre consommation est de  14.878467635402904 litres pour 100km\n"
     ]
    }
   ],
   "source": [
    "MPG = float(input(\"Consommation en Miles par Gallon :\"))\n",
    "conso_L100 = (MPG/3.785)*1.609\n",
    "print(\"Votre consommation est de \", conso_L100, \"litres pour 100km\")"
   ]
  },
  {
   "cell_type": "code",
   "execution_count": null,
   "id": "62a2aa13-948a-4d66-a7f8-8e2afc3bf5b1",
   "metadata": {},
   "outputs": [],
   "source": []
  },
  {
   "cell_type": "code",
   "execution_count": null,
   "id": "a05323bc-8d5c-4a0f-a013-7d2c48239efd",
   "metadata": {},
   "outputs": [],
   "source": []
  },
  {
   "cell_type": "code",
   "execution_count": null,
   "id": "9f827cfe-fee0-4bfd-a5f3-646175e5b539",
   "metadata": {},
   "outputs": [],
   "source": []
  },
  {
   "cell_type": "code",
   "execution_count": null,
   "id": "5c59418a-fd82-4e8a-b1de-c57fb6251680",
   "metadata": {},
   "outputs": [],
   "source": [
    "#Ex 12 Distance between two points on earth"
   ]
  },
  {
   "cell_type": "code",
   "execution_count": 244,
   "id": "69309c3d-c195-4643-8d36-33c29544f894",
   "metadata": {},
   "outputs": [
    {
     "ename": "SyntaxError",
     "evalue": "leading zeros in decimal integer literals are not permitted; use an 0o prefix for octal integers (1342045654.py, line 8)",
     "output_type": "error",
     "traceback": [
      "\u001b[1;36m  Cell \u001b[1;32mIn[244], line 8\u001b[1;36m\u001b[0m\n\u001b[1;33m    t1_rad = t1 * 0,0174533\u001b[0m\n\u001b[1;37m                    ^\u001b[0m\n\u001b[1;31mSyntaxError\u001b[0m\u001b[1;31m:\u001b[0m leading zeros in decimal integer literals are not permitted; use an 0o prefix for octal integers\n"
     ]
    }
   ],
   "source": [
    "import math\n",
    "\n",
    "t1 = int(input(\"Latitude du point 1 en degrés: \"))\n",
    "g1 = int(input(\"Longitude du point 1 en degrés:\"))\n",
    "t2 = int(input(\"Latitude du point 2 en degrés: \"))\n",
    "g2 = int(input(\"Longitude du point 2 en degrés: \"))\n",
    "\n",
    "t1_rad = t1 * 0,0174533\n",
    "t2_rad = t2 * 0,0174533\n",
    "g1_rad = g1 * 0,0174533\n",
    "g2_rad = g2 * 0,0174533\n",
    "\n",
    "distance = 6371.01 * math.acos(math.sin(t1) × math.sin(t2) + math.cos(t1) × math.cos(t2) × mathcos(g1 − g2))"
   ]
  },
  {
   "cell_type": "code",
   "execution_count": null,
   "id": "69b3d273-1d53-49ce-b03b-2b1e856861cc",
   "metadata": {},
   "outputs": [],
   "source": []
  },
  {
   "cell_type": "code",
   "execution_count": null,
   "id": "ad463e7d-1126-41b4-9f68-d165c40fad78",
   "metadata": {},
   "outputs": [],
   "source": []
  },
  {
   "cell_type": "code",
   "execution_count": null,
   "id": "7bb86eeb-7efd-4980-b056-318cb60e1478",
   "metadata": {},
   "outputs": [],
   "source": [
    "#CHAPITRE 2"
   ]
  },
  {
   "cell_type": "code",
   "execution_count": null,
   "id": "c5892642-55a1-45ec-bf40-efa970d22390",
   "metadata": {},
   "outputs": [],
   "source": [
    "#Ex 35 Even or Odd"
   ]
  },
  {
   "cell_type": "code",
   "execution_count": 246,
   "id": "37bfe08e-666a-4dff-ab9f-cfe29a8a666d",
   "metadata": {},
   "outputs": [
    {
     "name": "stdin",
     "output_type": "stream",
     "text": [
      "Veuillez indiquer un nombre entier:  55\n"
     ]
    },
    {
     "name": "stdout",
     "output_type": "stream",
     "text": [
      "Le nombre 55 est un nombre impair\n"
     ]
    }
   ],
   "source": [
    "nb = int(input(\"Veuillez indiquer un nombre entier: \"))\n",
    "\n",
    "if nb%2 == 0 :\n",
    "    print(\" Le nombre \", nb, \"est un nombre pair\")\n",
    "else :\n",
    "    print(\"Le nombre\", nb, \"est un nombre impair\")"
   ]
  },
  {
   "cell_type": "code",
   "execution_count": null,
   "id": "13151b96-c3d6-4e65-926f-3c9cdb7f95f0",
   "metadata": {},
   "outputs": [],
   "source": []
  },
  {
   "cell_type": "code",
   "execution_count": null,
   "id": "e0f49e50-911d-455a-a356-1c9dfa0fe7c6",
   "metadata": {},
   "outputs": [],
   "source": [
    "#Ex 36 Dog years"
   ]
  },
  {
   "cell_type": "code",
   "execution_count": 186,
   "id": "ec9a8cca-5e4c-40b9-acfa-3a88d4542da2",
   "metadata": {},
   "outputs": [
    {
     "name": "stdin",
     "output_type": "stream",
     "text": [
      "Veuillez indiquer votre âge :  8\n"
     ]
    },
    {
     "name": "stdout",
     "output_type": "stream",
     "text": [
      "Votre âge en années chien est de :  45 ans\n"
     ]
    }
   ],
   "source": [
    "age = int(input(\"Veuillez indiquer votre âge : \"))\n",
    "if age<2 :\n",
    "    dog_years = age * 10.5\n",
    "    \n",
    "elif age>= 2 :\n",
    "    dog_years = 21 + (age-2)*4\n",
    "\n",
    "print(\"Votre âge en années chien est de : \", dog_years, \"ans\")"
   ]
  },
  {
   "cell_type": "code",
   "execution_count": null,
   "id": "cf37945c-0d34-493e-91b9-ab4d0980b5d3",
   "metadata": {},
   "outputs": [],
   "source": []
  },
  {
   "cell_type": "code",
   "execution_count": null,
   "id": "6cbc372e-3a29-40ca-8395-b469abbdbf27",
   "metadata": {},
   "outputs": [],
   "source": [
    "#Ex37 Vowel or Consonant"
   ]
  },
  {
   "cell_type": "code",
   "execution_count": 222,
   "id": "61a36d58-e1e0-4ef1-8b7f-0ab5d8ce4d28",
   "metadata": {},
   "outputs": [
    {
     "name": "stdin",
     "output_type": "stream",
     "text": [
      "Veuillez indiquer une lettre de l'alphabet :  a\n"
     ]
    },
    {
     "name": "stdout",
     "output_type": "stream",
     "text": [
      "The letter a is a vowel.\n"
     ]
    }
   ],
   "source": [
    "letter = str(input(\"Veuillez indiquer une lettre de l'alphabet : \"))\n",
    "if letter in ['a','e','i','o','u']:\n",
    "    print(\"The letter\", letter, \"is a vowel.\")\n",
    "elif letter == 'y':\n",
    "    print(\"The letter y is sometimes a vowel and sometimes a consonant.\")\n",
    "else:\n",
    "    print(\"The letter\", letter, \"is a consonant\")"
   ]
  },
  {
   "cell_type": "code",
   "execution_count": null,
   "id": "bf80a39c-3d3b-4e06-b160-bf6d91e7a0af",
   "metadata": {},
   "outputs": [],
   "source": []
  },
  {
   "cell_type": "code",
   "execution_count": null,
   "id": "2d50599d-21e2-4e93-8544-171375878252",
   "metadata": {},
   "outputs": [],
   "source": [
    "#Ex38 Name that Shape"
   ]
  },
  {
   "cell_type": "code",
   "execution_count": 214,
   "id": "e050cd7f-c2e6-48a9-8d6a-c818f5ebf7f5",
   "metadata": {},
   "outputs": [
    {
     "name": "stdin",
     "output_type": "stream",
     "text": [
      "Le nombre de côtés est :  6\n"
     ]
    },
    {
     "name": "stdout",
     "output_type": "stream",
     "text": [
      "Ceci est un hexagone\n"
     ]
    }
   ],
   "source": [
    "sides = int(input(\"Le nombre de côtés est : \"))\n",
    "\n",
    "shape = \"\"\n",
    "if sides == 3 :\n",
    "    shape = \"triangle\"\n",
    "elif sides == 4 :\n",
    "    shape = \"carré\"\n",
    "elif sides == 5 :\n",
    "    shape = \"pentagone\"\n",
    "elif sides == 6 :\n",
    "    shape = \"hexagone\"\n",
    "elif sides == 7 :\n",
    "    shape = \"heptagone\"\n",
    "elif sides == 8 :\n",
    "    shape = \"octogone\"\n",
    "elif sides == 9 :\n",
    "    shape = \"nonagone\"\n",
    "elif sides == 10 :\n",
    "    shape = \"decagone\"\n",
    "else :\n",
    "    print(\"Erreur : valeur trop importante !\")\n",
    "               \n",
    "print(\"Ceci est un\",shape)"
   ]
  },
  {
   "cell_type": "code",
   "execution_count": null,
   "id": "868c198d-4bb4-4a0c-9c6e-0ef876c43c90",
   "metadata": {},
   "outputs": [],
   "source": []
  },
  {
   "cell_type": "code",
   "execution_count": null,
   "id": "3db7cebf-27fb-4c4f-bc73-d948427a06a2",
   "metadata": {},
   "outputs": [],
   "source": [
    "#Ex39 Month name to number of days"
   ]
  },
  {
   "cell_type": "code",
   "execution_count": 272,
   "id": "fa9047c3-809d-4285-997f-2261874221ba",
   "metadata": {},
   "outputs": [
    {
     "name": "stdin",
     "output_type": "stream",
     "text": [
      "Quel mois sommes nous ? avril\n"
     ]
    },
    {
     "name": "stdout",
     "output_type": "stream",
     "text": [
      "Il y a 30 jours dans le mois de avril.\n"
     ]
    }
   ],
   "source": [
    "month_31 = ['janvier', 'mars', 'mai', 'juillet', 'août', 'octobre', 'décembre']\n",
    "month_30 = ['avril', 'juin', 'septembre', 'novembre']\n",
    "\n",
    "month = str(input(\"Quel mois sommes nous ?\"))\n",
    "\n",
    "if month in month_31 :\n",
    "    print(f\"Il y a 31 jours dans le mois de {month}.\")\n",
    "elif month in month_30 :\n",
    "    print(f\"Il y a 30 jours dans le mois de {month}.\")\n",
    "else : \n",
    "    print(\"Le mois de février peut avoir 28 ou 29 jours.\")"
   ]
  },
  {
   "cell_type": "code",
   "execution_count": null,
   "id": "79a61c14-ad43-42d2-9521-74862a36dfc1",
   "metadata": {},
   "outputs": [],
   "source": []
  },
  {
   "cell_type": "code",
   "execution_count": null,
   "id": "ffc562cb-0e5c-428b-96cb-8bb5c509afc0",
   "metadata": {},
   "outputs": [],
   "source": [
    "#Ex 40 Sound levels"
   ]
  },
  {
   "cell_type": "code",
   "execution_count": 282,
   "id": "8cc446d4-5883-4c91-bd72-d8ccb4882236",
   "metadata": {},
   "outputs": [
    {
     "name": "stdin",
     "output_type": "stream",
     "text": [
      "Quel est le niveau sonore en décibels ? 45\n"
     ]
    },
    {
     "name": "stdout",
     "output_type": "stream",
     "text": [
      "Le niveau sonore est compris entre celui d'une alarme de réveil et celui d'une chambre calme.\n"
     ]
    }
   ],
   "source": [
    "sound_level = int(input(\"Quel est le niveau sonore en décibels ?\"))\n",
    "\n",
    "jackhammer =130\n",
    "lawnmover = 106\n",
    "alarm = 70\n",
    "room = 40\n",
    "\n",
    "if sound_level > jackhammer : \n",
    "    print(\"Niveau sonore dangereux !\")\n",
    "elif sound_level == jackhammer :\n",
    "    print(\"Le niveau sonore correspond à celui d'un marteau piqueur.\")\n",
    "elif sound_level < jackhammer and sound_level> lawnmover :\n",
    "    print(\"Le niveau sonore est compris entre celui d'un marteu piqueur et celui d'une tondeuse.\")\n",
    "elif sound_level == lawnmover :\n",
    "    print(\"Le niveau sonore correspond à celui d'une tondeuse.\")\n",
    "elif sound_level < lawnmover and sound_level > alarm :\n",
    "    print(\"Le niveau sonore est compris entre celui d'une tondeuse et celui d'une alarme de réveil.\")\n",
    "elif sound_level == alarm :\n",
    "    print(\"Le niveau sonore correspond à celui d'une alarme de révei.\")\n",
    "elif sound_level < alarm and sound_level > room:\n",
    "    print(\"Le niveau sonore est compris entre celui d'une alarme de réveil et celui d'une chambre calme.\")\n",
    "elif sound_level == room :\n",
    "    print(\"Le niveau sonore correspond à celui d'une chambre calme.\")\n",
    "else : \n",
    "    print(\"Le niveau sonore est bas.\")\n",
    "    \n"
   ]
  },
  {
   "cell_type": "code",
   "execution_count": null,
   "id": "1713b828-e427-4956-a3ba-35887c8e2d8e",
   "metadata": {},
   "outputs": [],
   "source": []
  },
  {
   "cell_type": "code",
   "execution_count": null,
   "id": "1908099c-e4e0-423e-aa8f-1acab8caa8cb",
   "metadata": {},
   "outputs": [],
   "source": [
    "#Ex 46 What color is that square ?"
   ]
  },
  {
   "cell_type": "code",
   "execution_count": 312,
   "id": "e6fda25d-fa17-444e-b10a-2f79cf44a099",
   "metadata": {},
   "outputs": [
    {
     "name": "stdin",
     "output_type": "stream",
     "text": [
      "Quelle est la colonne ? g\n",
      "Quelle est la ligne ? 3\n"
     ]
    },
    {
     "name": "stdout",
     "output_type": "stream",
     "text": [
      "Vous êtes sur une case noire.\n"
     ]
    }
   ],
   "source": [
    "first_black = ['a', 'c', 'e', 'g']\n",
    "first_white = ['b', 'd', 'f', 'h']\n",
    "\n",
    "impair = [1,3,5,7]\n",
    "pair= [2,4,6,8]\n",
    "\n",
    "letter = str(input(\"Quelle est la colonne ?\"))\n",
    "number = int(input(\"Quelle est la ligne ?\"))\n",
    "\n",
    "if (letter in first_black and number in impair) or (letter in first_white and number in pair)  :\n",
    "    print(\"Vous êtes sur une case noire.\") \n",
    "elif (letter in first_black and number in pair) or (letter in first_white and number in impair) :\n",
    "    print(\"Vous êtes sur une case blanche.\")\n",
    "else :\n",
    "    print(\"Erreur : cette case n'existe pas\")"
   ]
  },
  {
   "cell_type": "code",
   "execution_count": null,
   "id": "70c20197-fcc7-42c8-8787-2fb59c48f2ee",
   "metadata": {},
   "outputs": [],
   "source": []
  },
  {
   "cell_type": "code",
   "execution_count": null,
   "id": "c299f70c-7303-4063-8175-2aa3a19b9a7c",
   "metadata": {},
   "outputs": [],
   "source": [
    "#Ex47 Season from month and day"
   ]
  },
  {
   "cell_type": "code",
   "execution_count": 322,
   "id": "c482a0f6-848d-49c7-a39c-0a2c6f85760b",
   "metadata": {},
   "outputs": [
    {
     "name": "stdin",
     "output_type": "stream",
     "text": [
      "Quel est le mois ? février\n",
      "Quel est le jour ? 29\n"
     ]
    },
    {
     "name": "stdout",
     "output_type": "stream",
     "text": [
      "Nous sommes en hiver.\n"
     ]
    }
   ],
   "source": [
    "month  = str(input(\"Quel est le mois ?\"))\n",
    "day = int(input(\"Quel est le jour ?\"))\n",
    "\n",
    "if (month == 'mars' and day >= 20) or (month == 'avril') or (month == 'mai') or (month == 'juin' and day < 21) :\n",
    "    print(\"Nous sommes au printemps.\")\n",
    "elif(month == 'juin'and day >= 21) or (month == 'juillet') or (month == 'août') or (month == 'septembre' and day < 22 ):\n",
    "    print(\"Nous sommes en été.\")\n",
    "elif(month == 'septembre'and day >= 22) or (month == 'octobre') or (month == 'novembre') or (month == 'décembre' and day < 21 ):\n",
    "    print(\"Nous sommes en autumne.\")\n",
    "elif(month == 'décembre'and day >= 21) or (month == 'janvier') or (month == 'février') or (month == 'mars' and day < 20 ):\n",
    "    print(\"Nous sommes en hiver.\")\n",
    "else :+\n",
    "    print(\"Erreur : entrée incorrecte\")"
   ]
  },
  {
   "cell_type": "code",
   "execution_count": null,
   "id": "6e2b6c2b-8f84-4ec5-9f9a-4a10bc449b2f",
   "metadata": {},
   "outputs": [],
   "source": []
  },
  {
   "cell_type": "code",
   "execution_count": null,
   "id": "5d15b891-090c-4465-8007-e3c99886cb63",
   "metadata": {},
   "outputs": [],
   "source": []
  },
  {
   "cell_type": "code",
   "execution_count": null,
   "id": "5ec90970-0faa-420e-a408-1f0d94644a22",
   "metadata": {},
   "outputs": [],
   "source": [
    "#CHAPITRE 3"
   ]
  },
  {
   "cell_type": "code",
   "execution_count": null,
   "id": "9f37a4d9-550e-47dc-a30a-456349fec707",
   "metadata": {},
   "outputs": [],
   "source": [
    "#Ex63 Average"
   ]
  },
  {
   "cell_type": "code",
   "execution_count": null,
   "id": "64fad209-7ed5-40ed-99e7-613dd7ea3ce4",
   "metadata": {},
   "outputs": [],
   "source": []
  },
  {
   "cell_type": "code",
   "execution_count": null,
   "id": "a9459d8b-80ed-43db-84b9-ee0c49c74e11",
   "metadata": {},
   "outputs": [],
   "source": [
    "#Ex64 Discount table "
   ]
  },
  {
   "cell_type": "code",
   "execution_count": 332,
   "id": "455109dc-2b58-42b9-8493-c63a192477e3",
   "metadata": {},
   "outputs": [
    {
     "name": "stdout",
     "output_type": "stream",
     "text": [
      "4.95\n",
      "1.98\n",
      "9.95\n",
      "3.98\n",
      "14.95\n",
      "5.98\n",
      "19.95\n",
      "7.98\n",
      "24.95\n",
      "9.98\n"
     ]
    }
   ],
   "source": [
    "purchases = [4.95, 9.95, 14.95, 19.95, 24.95]\n",
    "\n",
    "for i in purchases :\n",
    "    print(i)\n",
    "    discount = \"%.2f\" %(i * 0.40)\n",
    "    print(discount)"
   ]
  },
  {
   "cell_type": "code",
   "execution_count": null,
   "id": "66d4653a-cd13-44ee-92fb-e9bac601da70",
   "metadata": {},
   "outputs": [],
   "source": []
  },
  {
   "cell_type": "code",
   "execution_count": null,
   "id": "0f4a7891-845c-4368-a08c-bc3058552dba",
   "metadata": {},
   "outputs": [],
   "source": [
    "#Ex 67 Compute the perimeter of a polygone"
   ]
  },
  {
   "cell_type": "code",
   "execution_count": null,
   "id": "08d7f93c-5386-45a2-854e-787818b7d4bc",
   "metadata": {},
   "outputs": [],
   "source": [
    "x_coordinate = int(input(\"Enter the first x-coordinate : \")\n",
    "y_coordinate = int(input(\"Enter the first y_coordinate : \")\n",
    "\n"
   ]
  },
  {
   "cell_type": "code",
   "execution_count": null,
   "id": "c3691579-cf7e-4ee4-a08b-61105466ec23",
   "metadata": {},
   "outputs": [],
   "source": []
  },
  {
   "cell_type": "code",
   "execution_count": 400,
   "id": "ce442e6d-840d-4b20-afcf-53ff89a17b1e",
   "metadata": {},
   "outputs": [
    {
     "name": "stdin",
     "output_type": "stream",
     "text": [
      "Veuillez renseigner l'âge des visiteurs (blank to quit) :  56\n",
      "Veuillez renseigner l'âge des autres visiteurs (blank to quit) :  23\n",
      "Veuillez renseigner l'âge des autres visiteurs (blank to quit) :  4\n",
      "Veuillez renseigner l'âge des autres visiteurs (blank to quit) :  78\n",
      "Veuillez renseigner l'âge des autres visiteurs (blank to quit) :  \n"
     ]
    },
    {
     "name": "stdout",
     "output_type": "stream",
     "text": [
      "Le prix total pour le groupe est de 73$\n"
     ]
    }
   ],
   "source": [
    "#Ex69 Admission price\n",
    "\n",
    "under2 = 0\n",
    "children = 14\n",
    "senior = 18\n",
    "adult = 23\n",
    "\n",
    "cost = 0\n",
    "\n",
    "age_guests = input(\"Veuillez renseigner l'âge des visiteurs (blank to quit) : \")\n",
    "while age_guests != \"\" :\n",
    "    age = int(age_guests)\n",
    "    \n",
    "    if age <= 2 :\n",
    "        cost = cost + 0\n",
    "    elif age  >= 3 and age < 12 :\n",
    "        cost = cost + 14\n",
    "    elif age >= 13 and age < 65 :\n",
    "        cost = cost + 18 \n",
    "    else :\n",
    "        cost = cost + 23 \n",
    "        \n",
    "    age_guests = input(\"Veuillez renseigner l'âge des autres visiteurs (blank to quit) : \")\n",
    "    \n",
    "print(f\"Le prix total pour le groupe est de {cost}$\")\n",
    "    \n",
    "\n"
   ]
  },
  {
   "cell_type": "code",
   "execution_count": null,
   "id": "199e3487-2c84-43e0-8085-2c04a274cb36",
   "metadata": {},
   "outputs": [],
   "source": []
  },
  {
   "cell_type": "code",
   "execution_count": null,
   "id": "5d5b1009-36f1-4a43-add0-38302e21ea46",
   "metadata": {},
   "outputs": [],
   "source": [
    "#Ex72 Fizz - Buzz"
   ]
  },
  {
   "cell_type": "code",
   "execution_count": 374,
   "id": "dfca35e3-c27f-493a-a348-4a079833a0ac",
   "metadata": {},
   "outputs": [
    {
     "name": "stdout",
     "output_type": "stream",
     "text": [
      "1\n",
      "2\n",
      "fizz\n",
      "4\n",
      "buzz\n",
      "fizz\n",
      "7\n",
      "8\n",
      "fizz\n",
      "buzz\n",
      "11\n",
      "fizz\n",
      "13\n",
      "14\n",
      "fizz\n",
      "16\n",
      "17\n",
      "fizz\n",
      "19\n",
      "buzz\n",
      "fizz\n",
      "22\n",
      "23\n",
      "fizz\n",
      "buzz\n",
      "26\n",
      "fizz\n",
      "28\n",
      "29\n",
      "fizz\n",
      "31\n",
      "32\n",
      "fizz\n",
      "34\n",
      "buzz\n",
      "fizz\n",
      "37\n",
      "38\n",
      "fizz\n",
      "buzz\n",
      "41\n",
      "fizz\n",
      "43\n",
      "44\n",
      "fizz\n",
      "46\n",
      "47\n",
      "fizz\n",
      "49\n",
      "buzz\n",
      "fizz\n",
      "52\n",
      "53\n",
      "fizz\n",
      "buzz\n",
      "56\n",
      "fizz\n",
      "58\n",
      "59\n",
      "fizz\n",
      "61\n",
      "62\n",
      "fizz\n",
      "64\n",
      "buzz\n",
      "fizz\n",
      "67\n",
      "68\n",
      "fizz\n",
      "buzz\n",
      "71\n",
      "fizz\n",
      "73\n",
      "74\n",
      "fizz\n",
      "76\n",
      "77\n",
      "fizz\n",
      "79\n",
      "buzz\n",
      "fizz\n",
      "82\n",
      "83\n",
      "fizz\n",
      "buzz\n",
      "86\n",
      "fizz\n",
      "88\n",
      "89\n",
      "fizz\n",
      "91\n",
      "92\n",
      "fizz\n",
      "94\n",
      "buzz\n",
      "fizz\n",
      "97\n",
      "98\n",
      "fizz\n",
      "buzz\n"
     ]
    }
   ],
   "source": [
    "\n",
    "for i in range(1, 101):\n",
    "    if i % 3 == 0 :\n",
    "        print(\"fizz\")\n",
    "    elif i % 5 == 0 :\n",
    "        print(\"buzz\")\n",
    "    else :\n",
    "        print(i)\n",
    "\n",
    "\n"
   ]
  },
  {
   "cell_type": "code",
   "execution_count": null,
   "id": "a74590ce-b93c-4de0-a907-1c5fa9e42ab8",
   "metadata": {},
   "outputs": [],
   "source": []
  },
  {
   "cell_type": "code",
   "execution_count": null,
   "id": "66bcbc55-8c6b-4142-bf9a-0640814efcbe",
   "metadata": {},
   "outputs": [],
   "source": [
    "#Ex73 Caesar Cipher"
   ]
  },
  {
   "cell_type": "code",
   "execution_count": null,
   "id": "12bec13a-f93d-4dd5-9c22-08396cf57e08",
   "metadata": {},
   "outputs": [],
   "source": [
    "message = (\"Veuillez écrire votre message :\")\n",
    "\n",
    "alphabet = \"abcdefghijklmnopqrstuvwxyz\"\n",
    "\n",
    "cipher_letter = alphabet[i+3]"
   ]
  },
  {
   "cell_type": "code",
   "execution_count": null,
   "id": "ef1def04-480e-47e8-8fa5-f44c48f63537",
   "metadata": {},
   "outputs": [],
   "source": []
  },
  {
   "cell_type": "code",
   "execution_count": null,
   "id": "52651152-d869-439d-bca8-7813ebdbdd6a",
   "metadata": {},
   "outputs": [],
   "source": [
    "CHAPITRE 5 LISTS"
   ]
  },
  {
   "cell_type": "code",
   "execution_count": null,
   "id": "ca8d5026-f8ce-42e7-9d0e-6bd68ca1ce0f",
   "metadata": {},
   "outputs": [],
   "source": [
    "#Ex 110 Sorted order"
   ]
  },
  {
   "cell_type": "code",
   "execution_count": 15,
   "id": "f8c38196-e5f9-43db-9095-116b3c2994b1",
   "metadata": {},
   "outputs": [
    {
     "name": "stdin",
     "output_type": "stream",
     "text": [
      "Ecrire un nombre (0 to quit): 56\n",
      "Ecrire un nombre : 23\n",
      "Ecrire un nombre : 14\n",
      "Ecrire un nombre : 0\n"
     ]
    },
    {
     "name": "stdout",
     "output_type": "stream",
     "text": [
      "14\n",
      "23\n",
      "56\n"
     ]
    }
   ],
   "source": [
    "nb_list = []\n",
    "nb_user = int(input(\"Ecrire un nombre (0 to quit):\"))\n",
    "\n",
    "while nb_user != 0 :\n",
    "    nb_list.append(nb_user)\n",
    "    nb_user = int(input(\"Ecrire un nombre :\"))\n",
    "    \n",
    "nb_list.sort()\n",
    "\n",
    "for nb_user in nb_list :\n",
    "    print (nb_user)\n",
    "\n"
   ]
  },
  {
   "cell_type": "code",
   "execution_count": null,
   "id": "560c61e5-561c-4001-9faa-122c2a1e6a54",
   "metadata": {},
   "outputs": [],
   "source": []
  },
  {
   "cell_type": "code",
   "execution_count": null,
   "id": "f01f5942-81a1-4697-a5c0-5989b2fc990a",
   "metadata": {},
   "outputs": [],
   "source": [
    "#Ex111 Reverse order"
   ]
  },
  {
   "cell_type": "code",
   "execution_count": 21,
   "id": "d2c2403d-7f1b-4eca-b93a-a88207b55adf",
   "metadata": {},
   "outputs": [
    {
     "name": "stdin",
     "output_type": "stream",
     "text": [
      "Ecrire un nombre (0 to quit): 54\n",
      "Ecrire un nombre (0 to quit: 45\n",
      "Ecrire un nombre (0 to quit: 78\n",
      "Ecrire un nombre (0 to quit: 14\n",
      "Ecrire un nombre (0 to quit: 0\n"
     ]
    },
    {
     "name": "stdout",
     "output_type": "stream",
     "text": [
      "14\n",
      "78\n",
      "45\n",
      "54\n"
     ]
    }
   ],
   "source": [
    "list = []\n",
    "nb_user = int(input(\"Ecrire un nombre (0 to quit):\"))\n",
    "\n",
    "while nb_user != 0 :\n",
    "    list.append(nb_user)\n",
    "    \n",
    "    nb_user = int(input(\"Ecrire un nombre (0 to quit:\"))\n",
    "\n",
    "list.reverse()\n",
    "\n",
    "for nb_user in list :\n",
    "    print (nb_user)"
   ]
  },
  {
   "cell_type": "code",
   "execution_count": null,
   "id": "7454bee2-27c5-4d04-a7a7-86eb0ce8d4ba",
   "metadata": {},
   "outputs": [],
   "source": []
  },
  {
   "cell_type": "code",
   "execution_count": null,
   "id": "3d59b0c1-50a2-45c2-b11c-7ecab2640a31",
   "metadata": {},
   "outputs": [],
   "source": [
    "#Ex 112 Remove outliers"
   ]
  },
  {
   "cell_type": "code",
   "execution_count": 29,
   "id": "ed27ae60-44ff-4646-a8e9-da272a951125",
   "metadata": {},
   "outputs": [
    {
     "name": "stdin",
     "output_type": "stream",
     "text": [
      "Ecrire un nombre (blank to quit): 56\n"
     ]
    },
    {
     "ename": "IndexError",
     "evalue": "list index out of range",
     "output_type": "error",
     "traceback": [
      "\u001b[1;31m---------------------------------------------------------------------------\u001b[0m",
      "\u001b[1;31mIndexError\u001b[0m                                Traceback (most recent call last)",
      "Cell \u001b[1;32mIn[29], line 15\u001b[0m\n\u001b[0;32m     11\u001b[0m     new_list \u001b[38;5;241m=\u001b[39m \u001b[38;5;28mlist\u001b[39m\u001b[38;5;241m.\u001b[39mpop(\u001b[38;5;28mlist\u001b[39m[n\u001b[38;5;241m-\u001b[39mn],\u001b[38;5;28mlist\u001b[39m[n\u001b[38;5;241m-\u001b[39m\u001b[38;5;241m1\u001b[39m], \u001b[38;5;28mlist\u001b[39m[\u001b[38;5;241m-\u001b[39mn\u001b[38;5;241m+\u001b[39m\u001b[38;5;241m1\u001b[39m], \u001b[38;5;28mlist\u001b[39m[\u001b[38;5;241m-\u001b[39mn])\n\u001b[0;32m     13\u001b[0m     \u001b[38;5;28;01mreturn\u001b[39;00m new_list\n\u001b[1;32m---> 15\u001b[0m new_copy(\u001b[38;5;28mlist\u001b[39m, \u001b[38;5;241m2\u001b[39m)\n",
      "Cell \u001b[1;32mIn[29], line 11\u001b[0m, in \u001b[0;36mnew_copy\u001b[1;34m(list, n)\u001b[0m\n\u001b[0;32m      8\u001b[0m     nb_user \u001b[38;5;241m=\u001b[39m \u001b[38;5;28mint\u001b[39m(\u001b[38;5;28minput\u001b[39m(\u001b[38;5;124m\"\u001b[39m\u001b[38;5;124mEcrire un nombre (blank to quit:\u001b[39m\u001b[38;5;124m\"\u001b[39m))\n\u001b[0;32m     10\u001b[0m \u001b[38;5;28mlist\u001b[39m\u001b[38;5;241m.\u001b[39msort()\n\u001b[1;32m---> 11\u001b[0m new_list \u001b[38;5;241m=\u001b[39m \u001b[38;5;28mlist\u001b[39m\u001b[38;5;241m.\u001b[39mpop(\u001b[38;5;28mlist\u001b[39m[n\u001b[38;5;241m-\u001b[39mn],\u001b[38;5;28mlist\u001b[39m[n\u001b[38;5;241m-\u001b[39m\u001b[38;5;241m1\u001b[39m], \u001b[38;5;28mlist\u001b[39m[\u001b[38;5;241m-\u001b[39mn\u001b[38;5;241m+\u001b[39m\u001b[38;5;241m1\u001b[39m], \u001b[38;5;28mlist\u001b[39m[\u001b[38;5;241m-\u001b[39mn])\n\u001b[0;32m     13\u001b[0m \u001b[38;5;28;01mreturn\u001b[39;00m new_list\n",
      "\u001b[1;31mIndexError\u001b[0m: list index out of range"
     ]
    }
   ],
   "source": [
    "def new_copy (list, n):\n",
    "\n",
    "    list = []\n",
    "    nb_user = int(input(\"Ecrire un nombre (blank to quit):\"))\n",
    "    \n",
    "    while len(list)>3 :\n",
    "        list.append(nb_user)\n",
    "        nb_user = int(input(\"Ecrire un nombre (blank to quit:\"))\n",
    "\n",
    "    list.sort()\n",
    "\n",
    "new_list = list.pop(list[n-n],list[n-1], list[-n+1], list[-n])\n",
    "                        \n",
    "    return new_copy\n",
    "new_copy(list, 2)"
   ]
  },
  {
   "cell_type": "code",
   "execution_count": null,
   "id": "67157bfb-8303-471c-abf7-3f114c73f07b",
   "metadata": {},
   "outputs": [],
   "source": []
  },
  {
   "cell_type": "code",
   "execution_count": null,
   "id": "9451edc2-5d46-471a-bfd1-020efa117e21",
   "metadata": {},
   "outputs": [],
   "source": [
    "#Ex 145  Scrabble score"
   ]
  },
  {
   "cell_type": "code",
   "execution_count": 90,
   "id": "a5ef5b3d-5a42-436e-9a6e-9cca7e195c98",
   "metadata": {},
   "outputs": [
    {
     "name": "stdout",
     "output_type": "stream",
     "text": [
      "dict_values([1, 1, 1, 1, 1, 1, 1, 1, 1, 1, 2, 2, 3, 3, 3, 3, 4, 4, 4, 4, 4, 5, 8, 8, 10, 10])\n"
     ]
    },
    {
     "name": "stdin",
     "output_type": "stream",
     "text": [
      "Ecrire un mot :  bonjour\n"
     ]
    },
    {
     "name": "stdout",
     "output_type": "stream",
     "text": [
      "16\n"
     ]
    }
   ],
   "source": [
    "scrabble = {\"a\":1,\"e\":1,\"i\":1,\"l\":1,\"n\":1,\"o\":1,\"r\":1,\"s\":1,\"t\":1,\"u\":1,\"d\":2,\"g\":2,\"b\":3,\"c\":3,\"m\":3,\"p\":3,\"f\":4,\"h\":4,\"v\":4,\"w\":4,\"y\":4,\"k\":5,\"j\":8,\"x\":8,\"q\":10,\"z\":10}\n",
    "print(scrabble.values())\n",
    "\n",
    "word = str(input(\"Ecrire un mot : \"))\n",
    "\n",
    "total = 0\n",
    "for i in word :\n",
    "        total += scrabble[i]\n",
    "\n",
    "print (total)\n",
    "    \n",
    "\n",
    "\n"
   ]
  },
  {
   "cell_type": "code",
   "execution_count": null,
   "id": "417e09e8-0916-491c-a741-b94ea5c6e35d",
   "metadata": {},
   "outputs": [],
   "source": []
  },
  {
   "cell_type": "code",
   "execution_count": null,
   "id": "3d199a04-a77a-4ffc-ab12-4cd4c65f3d97",
   "metadata": {},
   "outputs": [],
   "source": []
  }
 ],
 "metadata": {
  "kernelspec": {
   "display_name": "Python 3 (ipykernel)",
   "language": "python",
   "name": "python3"
  },
  "language_info": {
   "codemirror_mode": {
    "name": "ipython",
    "version": 3
   },
   "file_extension": ".py",
   "mimetype": "text/x-python",
   "name": "python",
   "nbconvert_exporter": "python",
   "pygments_lexer": "ipython3",
   "version": "3.12.4"
  }
 },
 "nbformat": 4,
 "nbformat_minor": 5
}
